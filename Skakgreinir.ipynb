{
 "cells": [
  {
   "cell_type": "code",
   "execution_count": 2,
   "metadata": {},
   "outputs": [
    {
     "data": {
      "text/plain": [
       "(20059, 16)"
      ]
     },
     "execution_count": 2,
     "metadata": {},
     "output_type": "execute_result"
    }
   ],
   "source": [
    "#Lesum inn gögnin\n",
    "import numpy as np\n",
    "\n",
    "gogn = np.loadtxt(\"Gögn/games.csv\", delimiter=\",\", dtype=str, comments=None)\n",
    "#display(gogn)\n",
    "gogn.shape"
   ]
  },
  {
   "cell_type": "code",
   "execution_count": 3,
   "metadata": {},
   "outputs": [
    {
     "data": {
      "text/plain": [
       "(20059, 6)"
      ]
     },
     "execution_count": 3,
     "metadata": {},
     "output_type": "execute_result"
    }
   ],
   "source": [
    "#Eyðum gögnum sem eru ekki notuð\n",
    "dalkarTilAdEyda = [15,14,13,10,8,7,5,3,2,1]\n",
    "gogn = np.transpose(gogn)\n",
    "gogn = np.delete(gogn,dalkarTilAdEyda,0)\n",
    "gogn = np.transpose(gogn)\n",
    "gogn.shape"
   ]
  },
  {
   "cell_type": "code",
   "execution_count": 47,
   "metadata": {},
   "outputs": [
    {
     "name": "stdout",
     "output_type": "stream",
     "text": [
      "349\n",
      "11555\n",
      "(20058, 349)\n"
     ]
    }
   ],
   "source": [
    "#Finnum lengd lengstu skákar\n",
    "import numpy as np\n",
    "max_lengd = 0\n",
    "temp_max_lengd = 0\n",
    "for i in range(len(gogn[:,0])):\n",
    "    leikir = gogn[i,5].split()\n",
    "    temp_max_lengd = len(leikir)\n",
    "    if temp_max_lengd > max_lengd:\n",
    "        max_lengd = temp_max_lengd\n",
    "        maxi = i\n",
    "print(max_lengd)\n",
    "print(maxi)\n",
    "\n",
    "#Setjum skákirnar í fylki, leik fyrir leik\n",
    "leikir = np.zeros((len(gogn[:,0])-1,max_lengd), dtype=list)\n",
    "for i in range(1, len(gogn[:,0])):\n",
    "    temp_leikir = gogn[i,5].split()\n",
    "    for j in range(len(temp_leikir)):\n",
    "        leikir[i-1,j] = temp_leikir[j]\n",
    "print(leikir.shape)"
   ]
  },
  {
   "cell_type": "code",
   "execution_count": 56,
   "metadata": {},
   "outputs": [],
   "source": [
    "#Breytum uppsetingu á leikjum úr (d4 d5...) í bitmap og bætum við númeri leiks\n",
    "import chess\n",
    "leikir_fen = np.zeros((len(gogn[:,0])-1,max_lengd), dtype=list)\n",
    "for i in range(len(leikir[:,0])):\n",
    "    for j in range(len(leikir[0,:])):\n",
    "        if leikir[i,j] != 0:\n",
    "            board = chess.Board()\n",
    "            for k in range(j):\n",
    "                board.push_san(leikir[i,k])\n",
    "            leikir_fen[i,j] = board.fen()\n",
    "        else:\n",
    "            break\n",
    "\n",
    "#board = chess.Board()\n",
    "#board.push_san('d4')\n",
    "#board.fen"
   ]
  },
  {
   "cell_type": "code",
   "execution_count": 8,
   "metadata": {},
   "outputs": [],
   "source": [
    "#a = np.asarray([ [1,2,3], [4,5,6], [7,8,9] ])\n",
    "#np.savetxt(\"foo.csv\", a, delimiter=\",\")"
   ]
  }
 ],
 "metadata": {
  "kernelspec": {
   "display_name": "UmhverfiLinux",
   "language": "python",
   "name": "python3"
  },
  "language_info": {
   "codemirror_mode": {
    "name": "ipython",
    "version": 3
   },
   "file_extension": ".py",
   "mimetype": "text/x-python",
   "name": "python",
   "nbconvert_exporter": "python",
   "pygments_lexer": "ipython3",
   "version": "3.8.16"
  },
  "orig_nbformat": 4
 },
 "nbformat": 4,
 "nbformat_minor": 2
}
