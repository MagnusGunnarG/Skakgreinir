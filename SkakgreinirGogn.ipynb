{
 "cells": [
  {
   "cell_type": "code",
   "execution_count": 1,
   "metadata": {},
   "outputs": [],
   "source": [
    "#Sækjum gögnin sem búið er að reikna\n",
    "import numpy as np\n",
    "\n",
    "leikir_fen = np.loadtxt(\"leikir_fen.csv\", delimiter=\",\", dtype=list, comments=None)\n",
    "leikir_eval = np.loadtxt(\"leikir_eval.csv\", delimiter=\",\", dtype=int, comments=None)\n",
    "#leikir_bitmap = np.loadtxt(\"leikir_bitmap.csv\", delimiter=\",\", dtype=int, comments=None)\n",
    "leikir_bitmap_50k = np.loadtxt(\"leikir_bitmap_50k.csv\", delimiter=\",\", dtype=int, comments=None)"
   ]
  },
  {
   "cell_type": "code",
   "execution_count": 2,
   "metadata": {},
   "outputs": [
    {
     "data": {
      "text/plain": [
       "(20059, 16)"
      ]
     },
     "execution_count": 2,
     "metadata": {},
     "output_type": "execute_result"
    }
   ],
   "source": [
    "#Lesum inn gögnin\n",
    "import numpy as np\n",
    "\n",
    "gogn = np.loadtxt(\"Gögn/games.csv\", delimiter=\",\", dtype=str, comments=None)\n",
    "#display(gogn)\n",
    "gogn.shape"
   ]
  },
  {
   "cell_type": "code",
   "execution_count": 3,
   "metadata": {},
   "outputs": [
    {
     "data": {
      "text/plain": [
       "(20059, 6)"
      ]
     },
     "execution_count": 3,
     "metadata": {},
     "output_type": "execute_result"
    }
   ],
   "source": [
    "#Eyðum gögnum sem eru ekki notuð\n",
    "dalkarTilAdEyda = [15,14,13,10,8,7,5,3,2,1]\n",
    "gogn = np.transpose(gogn)\n",
    "gogn = np.delete(gogn,dalkarTilAdEyda,0)\n",
    "gogn = np.transpose(gogn)\n",
    "gogn.shape"
   ]
  },
  {
   "cell_type": "code",
   "execution_count": 4,
   "metadata": {},
   "outputs": [
    {
     "name": "stdout",
     "output_type": "stream",
     "text": [
      "349\n",
      "11555\n",
      "(20058, 349)\n"
     ]
    }
   ],
   "source": [
    "#Finnum lengd lengstu skákar\n",
    "import numpy as np\n",
    "max_lengd = 0\n",
    "temp_max_lengd = 0\n",
    "maxi = 0\n",
    "for i in range(len(gogn[:,0])):\n",
    "    leikir = gogn[i,5].split()\n",
    "    temp_max_lengd = len(leikir)\n",
    "    if temp_max_lengd > max_lengd:\n",
    "        max_lengd = temp_max_lengd\n",
    "        maxi = i\n",
    "print(max_lengd)\n",
    "print(maxi)\n",
    "\n",
    "#Setjum skákirnar í fylki, leik fyrir leik\n",
    "leikir = np.zeros((len(gogn[:,0])-1,max_lengd), dtype=list)\n",
    "for i in range(1, len(gogn[:,0])):\n",
    "    temp_leikir = gogn[i,5].split()\n",
    "    for j in range(len(temp_leikir)):\n",
    "        leikir[i-1,j] = temp_leikir[j]\n",
    "print(leikir.shape)"
   ]
  },
  {
   "cell_type": "code",
   "execution_count": 5,
   "metadata": {},
   "outputs": [],
   "source": [
    "#Breytum uppsetingu á leikjum úr (d4 d5...) í fen\n",
    "import chess\n",
    "leikir_fen = np.zeros((len(gogn[:,0])-1,max_lengd), dtype=list)\n",
    "for i in range(len(leikir[:,0])):\n",
    "    for j in range(len(leikir[0,:])):\n",
    "        if leikir[i,j] != 0:\n",
    "            board = chess.Board()\n",
    "            for k in range(j):\n",
    "                board.push_san(leikir[i,k])\n",
    "            leikir_fen[i,j] = board.fen()\n",
    "        else:\n",
    "            break"
   ]
  },
  {
   "cell_type": "code",
   "execution_count": 11,
   "metadata": {},
   "outputs": [],
   "source": [
    "#np.savetxt(\"leikir_fen.csv\", leikir_fen, delimiter=\",\", fmt=\"%s\")"
   ]
  },
  {
   "cell_type": "code",
   "execution_count": 73,
   "metadata": {},
   "outputs": [],
   "source": [
    "#Finnum evaluation fyrir hvern leik með Stockfish\n",
    "from stockfish import Stockfish\n",
    "\n",
    "stockfish = Stockfish(path=\"/home/magnus/Downloads/Installers of setup/stockfish_15.1_linux_x64/stockfish-ubuntu-20.04-x86-64\")\n",
    "stockfish.update_engine_parameters({\"Threads\": 10, \"Minimum Thinking Time\": 0, \"Hash\": 32})\n",
    "stockfish.set_depth(10)\n",
    "leikir_eval = np.zeros((len(gogn[:,0])-1,max_lengd), dtype=list)\n",
    "for i in range(len(leikir_fen[:,0])):\n",
    "#for i in range(100):\n",
    "    for j in range(len(leikir_fen[0,:])):\n",
    "        if leikir_fen[i,j] != 0:\n",
    "            stockfish.set_fen_position(leikir_fen[i,j])\n",
    "            a = stockfish.get_evaluation()\n",
    "            leikir_eval[i,j] = a['value']\n",
    "        else:\n",
    "            break"
   ]
  },
  {
   "cell_type": "code",
   "execution_count": 74,
   "metadata": {},
   "outputs": [],
   "source": [
    "#np.savetxt(\"leikir_eval.csv\", leikir_eval, delimiter=\",\", fmt=\"%s\")"
   ]
  },
  {
   "cell_type": "code",
   "execution_count": 35,
   "metadata": {},
   "outputs": [
    {
     "name": "stdout",
     "output_type": "stream",
     "text": [
      "1212827\n"
     ]
    }
   ],
   "source": [
    "#Teljum fjölda leikja sem eru ekki 0\n",
    "fjoldi_leikja = 0\n",
    "for i in range(len(leikir_fen[:,0])):\n",
    "    for j in range(len(leikir_fen[0,:])):\n",
    "        if leikir_fen[i,j] != '0': #0 þegar keyrt fyrst en '0' þegar lesið úr skrá\n",
    "            fjoldi_leikja += 1\n",
    "print(fjoldi_leikja)"
   ]
  },
  {
   "cell_type": "code",
   "execution_count": 7,
   "metadata": {},
   "outputs": [],
   "source": [
    "b = np.zeros((len(gogn[:,0])-1,max_lengd), dtype=list)\n",
    "a = b[5,5]\n",
    "c = leikir_fen[5,5]"
   ]
  },
  {
   "cell_type": "code",
   "execution_count": 160,
   "metadata": {},
   "outputs": [],
   "source": [
    "#Breytum úr fen í bitboard og hvern leik í sér línu\n",
    "leikir_bitmap = np.zeros((fjoldi_leikja, 64*12+1), dtype=int)\n",
    "l = 0\n",
    "for i in range(len(leikir_fen[:,0])):\n",
    "    for j in range(len(leikir_fen[0,:])):\n",
    "        if leikir_fen[i,j] != 0:\n",
    "            board = chess.Board(leikir_fen[i,j])\n",
    "            leikir_bitmap[l,0] = (j+1)//2+((j+1)%2>0) #Númer leiksins er fyrsta stakið í hverri línu\n",
    "            for k in range(64):\n",
    "                if board.piece_at(k) != None:\n",
    "                    if board.piece_at(k).color == True:\n",
    "                        leikir_bitmap[l,1+k+64*board.piece_at(k).piece_type-64] = 1\n",
    "                    else:\n",
    "                        leikir_bitmap[l,1+k+64*board.piece_at(k).piece_type-64+6*64] = 1\n",
    "            l += 1\n",
    "        else:\n",
    "            break"
   ]
  },
  {
   "cell_type": "code",
   "execution_count": 166,
   "metadata": {},
   "outputs": [],
   "source": [
    "#np.savetxt(\"leikir_bitmap.csv\", leikir_bitmap, delimiter=\",\", fmt=\"%d\")"
   ]
  },
  {
   "cell_type": "code",
   "execution_count": null,
   "metadata": {},
   "outputs": [],
   "source": [
    "#leikir_bitmap_50k = leikir_bitmap[0:50000,:]\n",
    "#np.savetxt(\"leikir_bitmap_50k.csv\", leikir_bitmap_50k, delimiter=\",\", fmt=\"%d\")"
   ]
  },
  {
   "cell_type": "code",
   "execution_count": 26,
   "metadata": {},
   "outputs": [],
   "source": [
    "#Setjum eval í línu\n",
    "leikir_eval_lina = np.zeros((fjoldi_leikja, 1), dtype=int)\n",
    "l = 0\n",
    "for i in range(len(leikir_eval[:,0])):\n",
    "    for j in range(len(leikir_eval[0,:])):\n",
    "        if leikir_fen[i,j] != '0': #Notum fen því það er ekki núll en eval getur verið núll\n",
    "            leikir_eval_lina[l,0] = leikir_eval[i,j]\n",
    "            l += 1\n",
    "        else:\n",
    "            break\n",
    "leikir_eval_lina_50k = leikir_eval_lina[0:50000,:]"
   ]
  },
  {
   "cell_type": "code",
   "execution_count": 10,
   "metadata": {},
   "outputs": [],
   "source": [
    "#np.savetxt(\"leikir_eval_lina.csv\", leikir_eval_lina, delimiter=\",\", fmt=\"%d\")\n",
    "#np.savetxt(\"leikir_eval_lina_50k.csv\", leikir_eval_lina_50k, delimiter=\",\", fmt=\"%d\")"
   ]
  },
  {
   "cell_type": "code",
   "execution_count": 27,
   "metadata": {},
   "outputs": [],
   "source": [
    "#Setjum elo í línu\n",
    "leikir_elo_lina = np.zeros((fjoldi_leikja, 2), dtype=int)\n",
    "l = 0\n",
    "for i in range(len(leikir_eval[:,0])):\n",
    "    for j in range(len(leikir_eval[0,:])):\n",
    "        if leikir_fen[i,j] != '0':\n",
    "            leikir_elo_lina[l,0] = gogn[i+1,3]\n",
    "            leikir_elo_lina[l,1] = gogn[i+1,4]\n",
    "            l += 1\n",
    "leikir_elo_lina_50k = leikir_elo_lina[0:50000,:]"
   ]
  },
  {
   "cell_type": "code",
   "execution_count": 28,
   "metadata": {},
   "outputs": [],
   "source": [
    "#np.savetxt(\"leikir_elo_lina.csv\", leikir_elo_lina, delimiter=\",\", fmt=\"%d\")\n",
    "#np.savetxt(\"leikir_elo_lina_50k.csv\", leikir_elo_lina_50k, delimiter=\",\", fmt=\"%d\")"
   ]
  },
  {
   "cell_type": "code",
   "execution_count": 30,
   "metadata": {},
   "outputs": [],
   "source": [
    "#Setjum öll gögn í eitt fylki (nr.leiks, bitboard, eval, eloHv., eloSv.)\n",
    "fjoldi_leikja = 50000 #Skoða bara 50k því 1.2M er of mikið\n",
    "leikir_heild = np.zeros((fjoldi_leikja, 769+1+2), dtype=int)\n",
    "for i in range(fjoldi_leikja):\n",
    "    leikir_heild[i,0:769] = leikir_bitmap_50k[i,:]\n",
    "    leikir_heild[i,769:769+1] = leikir_eval_lina[i,:]\n",
    "    leikir_heild[i,769+1:769+1+2] = leikir_elo_lina[i,:]"
   ]
  },
  {
   "cell_type": "code",
   "execution_count": 31,
   "metadata": {},
   "outputs": [],
   "source": [
    "#np.savetxt(\"leikir_heild_50k.csv\", leikir_heild, delimiter=\",\", fmt=\"%d\")"
   ]
  },
  {
   "cell_type": "code",
   "execution_count": 36,
   "metadata": {},
   "outputs": [],
   "source": [
    "#Setjum upp hver vann skákina í samsvarandi fylki\n",
    "leikir_sigurvegari = np.zeros((fjoldi_leikja, 1), dtype=int) #1 = hvítur vann, 0 = svartur vann\n",
    "l = 0\n",
    "for i in range(len(leikir_fen[:,0])):\n",
    "    for j in range(len(leikir_fen[0,:])):\n",
    "        if leikir_fen[i,j] != '0':\n",
    "            temp_leikir_sigurvegari = gogn[i+1,2]\n",
    "            if temp_leikir_sigurvegari == 'white':\n",
    "                leikir_sigurvegari[l,0] = 1\n",
    "            l += 1\n",
    "leikir_sigurvegari_50k = leikir_sigurvegari[0:50000,:]"
   ]
  },
  {
   "cell_type": "code",
   "execution_count": 37,
   "metadata": {},
   "outputs": [],
   "source": [
    "#np.savetxt(\"leikir_sigurvegari.csv\", leikir_sigurvegari, delimiter=\",\", fmt=\"%d\")\n",
    "#np.savetxt(\"leikir_sigurvegari_50k.csv\", leikir_sigurvegari_50k, delimiter=\",\", fmt=\"%d\")"
   ]
  },
  {
   "attachments": {},
   "cell_type": "markdown",
   "metadata": {},
   "source": [
    "Nú eru öll þjálfunar- og prófunargögn komin"
   ]
  }
 ],
 "metadata": {
  "kernelspec": {
   "display_name": "UmhverfiLinux",
   "language": "python",
   "name": "python3"
  },
  "language_info": {
   "codemirror_mode": {
    "name": "ipython",
    "version": 3
   },
   "file_extension": ".py",
   "mimetype": "text/x-python",
   "name": "python",
   "nbconvert_exporter": "python",
   "pygments_lexer": "ipython3",
   "version": "3.8.16"
  },
  "orig_nbformat": 4
 },
 "nbformat": 4,
 "nbformat_minor": 2
}
