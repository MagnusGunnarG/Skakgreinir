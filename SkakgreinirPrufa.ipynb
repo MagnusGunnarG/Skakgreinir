{
 "cells": [
  {
   "cell_type": "code",
   "execution_count": 1,
   "metadata": {},
   "outputs": [],
   "source": [
    "# Sækjum gögnin úr SkakgreinirGogn\n",
    "import numpy as np\n",
    "\n",
    "#leikir_heild = np.loadtxt(\"leikir_heild_50k.csv\", delimiter=\",\", dtype=int, comments=None)\n",
    "#leikir_sigurvegari = np.loadtxt(\"leikir_sigurvegari_50k.csv\", delimiter=\",\", dtype=int, comments=None)\n",
    "leikir_heild = np.loadtxt(\"/home/magnus/Documents/Skákgreinir_backup/leikir_heild.csv\", delimiter=\",\", dtype=int, comments=None)\n",
    "leikir_sigurvegari = np.loadtxt(\"leikir_sigurvegari.csv\", delimiter=\",\", dtype=int, comments=None)\n",
    "\n",
    "leikir_heild = leikir_heild[:300000]\n",
    "leikir_sigurvegari = leikir_sigurvegari[:300000]\n",
    "\n",
    "# Skoðum aðeins gögnin fyrir hvítann\n",
    "leikir_heild_hvitur = []\n",
    "leikir_sigurvegari_hvitur = []\n",
    "nr_fyrri_leiks = 0\n",
    "for i in range(leikir_heild.shape[0]):\n",
    "    nr_nuverandi_leiks = leikir_heild[i,0]\n",
    "    if nr_fyrri_leiks != nr_nuverandi_leiks:\n",
    "        leikir_heild_hvitur.append(leikir_heild[i,:])\n",
    "        leikir_sigurvegari_hvitur.append(leikir_sigurvegari[i])\n",
    "    nr_fyrri_leiks = nr_nuverandi_leiks\n",
    "\n",
    "#leikir_heild_hvitur = np.array(leikir_heild_hvitur[:200000])\n",
    "#leikir_sigurvegari_hvitur = np.array(leikir_sigurvegari_hvitur[:200000])\n",
    "\n",
    "from sklearn.model_selection import train_test_split\n",
    "Xtr, Xts, ytr, yts = train_test_split(leikir_heild_hvitur, leikir_sigurvegari_hvitur, test_size=0.2, random_state=42)\n",
    "\n",
    "Xtr = np.array(Xtr)\n",
    "Xts = np.array(Xts)\n",
    "ytr = np.array(ytr)\n",
    "yts = np.array(yts)"
   ]
  },
  {
   "cell_type": "code",
   "execution_count": 2,
   "metadata": {},
   "outputs": [
    {
     "data": {
      "text/plain": [
       "(121019, 772)"
      ]
     },
     "execution_count": 2,
     "metadata": {},
     "output_type": "execute_result"
    }
   ],
   "source": [
    "Xtr.shape"
   ]
  },
  {
   "cell_type": "code",
   "execution_count": 3,
   "metadata": {},
   "outputs": [
    {
     "name": "stdout",
     "output_type": "stream",
     "text": [
      "0.6581941678579397\n"
     ]
    }
   ],
   "source": [
    "# SKoðum nákvæmni sem fæst með því að nota aðeins Stockfish\n",
    "y_pred_fra_Stockfish = np.zeros((Xtr.shape[0]))\n",
    "\n",
    "for i in range(Xtr.shape[0]):\n",
    "    if Xtr[i,769] > 0:\n",
    "        y_pred_fra_Stockfish[i] = 1\n",
    "\n",
    "from sklearn.metrics import accuracy_score\n",
    "print(accuracy_score(ytr, y_pred_fra_Stockfish))\n"
   ]
  }
 ],
 "metadata": {
  "kernelspec": {
   "display_name": "UmhverfiLinux",
   "language": "python",
   "name": "python3"
  },
  "language_info": {
   "codemirror_mode": {
    "name": "ipython",
    "version": 3
   },
   "file_extension": ".py",
   "mimetype": "text/x-python",
   "name": "python",
   "nbconvert_exporter": "python",
   "pygments_lexer": "ipython3",
   "version": "3.8.16"
  },
  "orig_nbformat": 4
 },
 "nbformat": 4,
 "nbformat_minor": 2
}
