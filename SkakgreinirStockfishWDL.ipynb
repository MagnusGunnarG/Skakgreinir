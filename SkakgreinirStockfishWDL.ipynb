{
 "cells": [
  {
   "cell_type": "code",
   "execution_count": 1,
   "metadata": {},
   "outputs": [],
   "source": [
    "# Sækjum gögnin\n",
    "import numpy as np\n",
    "\n",
    "leikir_fen = np.loadtxt(\"leikir_fen.csv\", delimiter=\",\", dtype=list, comments=None)"
   ]
  },
  {
   "cell_type": "code",
   "execution_count": 6,
   "metadata": {},
   "outputs": [
    {
     "name": "stdout",
     "output_type": "stream",
     "text": [
      "{'type': 'cp', 'value': 31}\n",
      "+---+---+---+---+---+---+---+---+\n",
      "| r | n | b | q | k | b | n | r | 8\n",
      "+---+---+---+---+---+---+---+---+\n",
      "| p | p | p | p | p | p | p | p | 7\n",
      "+---+---+---+---+---+---+---+---+\n",
      "|   |   |   |   |   |   |   |   | 6\n",
      "+---+---+---+---+---+---+---+---+\n",
      "|   |   |   |   |   |   |   |   | 5\n",
      "+---+---+---+---+---+---+---+---+\n",
      "|   |   |   |   |   |   |   |   | 4\n",
      "+---+---+---+---+---+---+---+---+\n",
      "|   |   |   |   |   |   |   |   | 3\n",
      "+---+---+---+---+---+---+---+---+\n",
      "| P | P | P | P | P | P | P | P | 2\n",
      "+---+---+---+---+---+---+---+---+\n",
      "| R | N | B | Q | K | B | N | R | 1\n",
      "+---+---+---+---+---+---+---+---+\n",
      "  a   b   c   d   e   f   g   h\n",
      "\n",
      "[54, 944, 2]\n"
     ]
    }
   ],
   "source": [
    "from stockfish import Stockfish\n",
    "\n",
    "stockfish = Stockfish(path=\"/home/magnus/Downloads/Installers of setup/stockfish_15.1_linux_x64/stockfish-ubuntu-20.04-x86-64\")\n",
    "stockfish.update_engine_parameters({\"Threads\": 10, \"Minimum Thinking Time\": 0, \"Hash\": 32})\n",
    "stockfish.set_depth(10)\n",
    "\n",
    "stockfish.set_fen_position(leikir_fen[0])\n",
    "print(stockfish.get_evaluation())\n",
    "print(stockfish.get_board_visual())\n",
    "a = stockfish.get_wdl_stats()\n",
    "print(a)"
   ]
  },
  {
   "cell_type": "code",
   "execution_count": 2,
   "metadata": {},
   "outputs": [
    {
     "ename": "KeyboardInterrupt",
     "evalue": "",
     "output_type": "error",
     "traceback": [
      "\u001b[0;31m---------------------------------------------------------------------------\u001b[0m",
      "\u001b[0;31mKeyboardInterrupt\u001b[0m                         Traceback (most recent call last)",
      "Cell \u001b[0;32mIn[2], line 22\u001b[0m\n\u001b[1;32m     20\u001b[0m \u001b[39mif\u001b[39;00m board\u001b[39m.\u001b[39mturn:\n\u001b[1;32m     21\u001b[0m     stockfish\u001b[39m.\u001b[39mset_fen_position(leikir_fen[i,j])\n\u001b[0;32m---> 22\u001b[0m     leikir_wdl[l,:] \u001b[39m=\u001b[39m np\u001b[39m.\u001b[39masarray(stockfish\u001b[39m.\u001b[39;49mget_wdl_stats())\n\u001b[1;32m     23\u001b[0m     l \u001b[39m+\u001b[39m\u001b[39m=\u001b[39m \u001b[39m1\u001b[39m\n",
      "File \u001b[0;32m~/anaconda3/envs/UmhverfiLinux/lib/python3.8/site-packages/stockfish/models.py:451\u001b[0m, in \u001b[0;36mStockfish.get_wdl_stats\u001b[0;34m(self)\u001b[0m\n\u001b[1;32m    449\u001b[0m lines \u001b[39m=\u001b[39m []\n\u001b[1;32m    450\u001b[0m \u001b[39mwhile\u001b[39;00m \u001b[39mTrue\u001b[39;00m:\n\u001b[0;32m--> 451\u001b[0m     text \u001b[39m=\u001b[39m \u001b[39mself\u001b[39;49m\u001b[39m.\u001b[39;49m_read_line()\n\u001b[1;32m    452\u001b[0m     splitted_text \u001b[39m=\u001b[39m text\u001b[39m.\u001b[39msplit(\u001b[39m\"\u001b[39m\u001b[39m \u001b[39m\u001b[39m\"\u001b[39m)\n\u001b[1;32m    453\u001b[0m     lines\u001b[39m.\u001b[39mappend(splitted_text)\n",
      "File \u001b[0;32m~/anaconda3/envs/UmhverfiLinux/lib/python3.8/site-packages/stockfish/models.py:161\u001b[0m, in \u001b[0;36mStockfish._read_line\u001b[0;34m(self)\u001b[0m\n\u001b[1;32m    159\u001b[0m \u001b[39mif\u001b[39;00m \u001b[39mself\u001b[39m\u001b[39m.\u001b[39m_stockfish\u001b[39m.\u001b[39mpoll() \u001b[39mis\u001b[39;00m \u001b[39mnot\u001b[39;00m \u001b[39mNone\u001b[39;00m:\n\u001b[1;32m    160\u001b[0m     \u001b[39mraise\u001b[39;00m StockfishException(\u001b[39m\"\u001b[39m\u001b[39mThe Stockfish process has crashed\u001b[39m\u001b[39m\"\u001b[39m)\n\u001b[0;32m--> 161\u001b[0m \u001b[39mreturn\u001b[39;00m \u001b[39mself\u001b[39;49m\u001b[39m.\u001b[39;49m_stockfish\u001b[39m.\u001b[39;49mstdout\u001b[39m.\u001b[39;49mreadline()\u001b[39m.\u001b[39mstrip()\n",
      "\u001b[0;31mKeyboardInterrupt\u001b[0m: "
     ]
    }
   ],
   "source": [
    "# Finnum WDL fyrir hvern leik með Stockfish\n",
    "from stockfish import Stockfish\n",
    "import chess\n",
    "\n",
    "stockfish = Stockfish(path=\"/home/magnus/Downloads/Installers of setup/stockfish_15.1_linux_x64/stockfish-ubuntu-20.04-x86-64\")\n",
    "stockfish.update_engine_parameters({\"Threads\": 10, \"Minimum Thinking Time\": 0, \"Hash\": 32})\n",
    "stockfish.set_depth(10)\n",
    "\n",
    "l=0\n",
    "leikir_wdl = np.zeros((151274, 3))\n",
    "for i in range(len(leikir_fen[:,0])):\n",
    "#for i in range(100):\n",
    "    for j in range(len(leikir_fen[0,:])):\n",
    "    #for j in range(2):\n",
    "        if l == 151274:\n",
    "            break\n",
    "        if leikir_fen[i,j] == \"0\":\n",
    "            break\n",
    "        board = chess.Board(leikir_fen[i,j])\n",
    "        if board.turn:\n",
    "            stockfish.set_fen_position(leikir_fen[i,j])\n",
    "            leikir_wdl[l,:] = np.asarray(stockfish.get_wdl_stats())\n",
    "            l += 1\n"
   ]
  },
  {
   "cell_type": "code",
   "execution_count": 4,
   "metadata": {},
   "outputs": [],
   "source": [
    "#leikir_wdl = leikir_wdl[0:l,:]"
   ]
  },
  {
   "cell_type": "code",
   "execution_count": 5,
   "metadata": {},
   "outputs": [],
   "source": [
    "#np.savetxt(\"leikir_wdl.csv\", leikir_wdl, delimiter=\",\", fmt=\"%d\")"
   ]
  },
  {
   "cell_type": "code",
   "execution_count": 2,
   "metadata": {},
   "outputs": [],
   "source": [
    "import numpy as np\n",
    "\n",
    "leikir_wdl = np.loadtxt(\"leikir_wdl.csv\", delimiter=\",\", dtype=int, comments=None)\n",
    "leikir_wdl_sigurvegari = np.argmax(leikir_wdl, axis=1)\n",
    "\n",
    "# Breytum úr WDL í WLD til að vera eins og í tauganetinu\n",
    "for i in range(len(leikir_wdl_sigurvegari)):\n",
    "    if leikir_wdl_sigurvegari[i] == 1:\n",
    "        leikir_wdl_sigurvegari[i] = 2\n",
    "    elif leikir_wdl_sigurvegari[i] == 2:\n",
    "        leikir_wdl_sigurvegari[i] = 1"
   ]
  },
  {
   "cell_type": "code",
   "execution_count": 3,
   "metadata": {},
   "outputs": [],
   "source": [
    "# Sækjum gögnin úr SkakgreinirGogn\n",
    "leikir_heild = np.loadtxt(\"/home/magnus/Documents/Skákgreinir_backup/leikir_heild.csv\", delimiter=\",\", dtype=int, comments=None)\n",
    "leikir_sigurvegari = np.loadtxt(\"leikir_sigurvegari.csv\", delimiter=\",\", dtype=int, comments=None)\n",
    "\n",
    "leikir_heild = leikir_heild[:300000]\n",
    "leikir_sigurvegari = leikir_sigurvegari[:300000]\n",
    "\n",
    "# Skoðum aðeins gögnin fyrir hvítann\n",
    "leikir_heild_hvitur = []\n",
    "leikir_sigurvegari_hvitur = []\n",
    "nr_fyrri_leiks = 0\n",
    "for i in range(leikir_heild.shape[0]):\n",
    "    nr_nuverandi_leiks = leikir_heild[i,0]\n",
    "    if nr_fyrri_leiks != nr_nuverandi_leiks:\n",
    "        leikir_heild_hvitur.append(leikir_heild[i,:])\n",
    "        leikir_sigurvegari_hvitur.append(leikir_sigurvegari[i])\n",
    "    nr_fyrri_leiks = nr_nuverandi_leiks\n",
    "\n",
    "leikir_heild_hvitur = np.array(leikir_heild_hvitur[:148364])\n",
    "leikir_sigurvegari_hvitur = np.array(leikir_sigurvegari_hvitur[:148364])"
   ]
  },
  {
   "cell_type": "code",
   "execution_count": 4,
   "metadata": {},
   "outputs": [
    {
     "name": "stdout",
     "output_type": "stream",
     "text": [
      "0.23428190126984982\n"
     ]
    }
   ],
   "source": [
    "from sklearn.metrics import accuracy_score\n",
    "\n",
    "# Finnum nákvæmnina\n",
    "print(accuracy_score(leikir_sigurvegari_hvitur, leikir_wdl_sigurvegari))"
   ]
  }
 ],
 "metadata": {
  "kernelspec": {
   "display_name": "UmhverfiLinux",
   "language": "python",
   "name": "python3"
  },
  "language_info": {
   "codemirror_mode": {
    "name": "ipython",
    "version": 3
   },
   "file_extension": ".py",
   "mimetype": "text/x-python",
   "name": "python",
   "nbconvert_exporter": "python",
   "pygments_lexer": "ipython3",
   "version": "3.8.16"
  },
  "orig_nbformat": 4
 },
 "nbformat": 4,
 "nbformat_minor": 2
}
